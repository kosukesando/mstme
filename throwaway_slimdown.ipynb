{
 "cells": [
  {
   "cell_type": "code",
   "execution_count": null,
   "metadata": {},
   "outputs": [],
   "source": [
    "import xarray as xr\n",
    "from pathlib import Path"
   ]
  },
  {
   "cell_type": "code",
   "execution_count": null,
   "metadata": {},
   "outputs": [],
   "source": [
    "for i,file in enumerate(Path('./ww3_meteo').glob(\"*.nc\")):\n",
    "    if not Path(f\"./ww3_meteo_slim/{i:03d}.nc\").exists():\n",
    "        ds = xr.open_dataset(file)\n",
    "        ds_new = ds.drop_dims((\"single\", \"nele\",\"nvertex\"))\n",
    "        ds_new.to_netcdf(f'./ww3_meteo_slim/{i:03d}.nc')"
   ]
  }
 ],
 "metadata": {
  "kernelspec": {
   "display_name": "mstme",
   "language": "python",
   "name": "python3"
  },
  "language_info": {
   "name": "python",
   "version": "3.10.8"
  },
  "orig_nbformat": 4,
  "vscode": {
   "interpreter": {
    "hash": "1acacb5027a708093041529e98c0b030fe34aaf55a46df6a726c14aa557c4ca6"
   }
  }
 },
 "nbformat": 4,
 "nbformat_minor": 2
}
